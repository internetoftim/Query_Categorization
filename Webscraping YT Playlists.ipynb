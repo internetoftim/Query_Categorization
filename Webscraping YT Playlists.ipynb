{
 "cells": [
  {
   "cell_type": "code",
   "execution_count": 50,
   "metadata": {
    "collapsed": true
   },
   "outputs": [],
   "source": [
    "import bs4"
   ]
  },
  {
   "cell_type": "markdown",
   "metadata": {},
   "source": [
    "Importing BeautifulSoup4 for parsing HTML page."
   ]
  },
  {
   "cell_type": "code",
   "execution_count": 62,
   "metadata": {
    "collapsed": true
   },
   "outputs": [],
   "source": [
    "from urllib.request import urlopen as uReq\n",
    "from bs4 import BeautifulSoup as soup"
   ]
  },
  {
   "cell_type": "code",
   "execution_count": 52,
   "metadata": {
    "collapsed": true
   },
   "outputs": [],
   "source": [
    "my_url = 'https://www.youtube.com/watch?v=xJbckXcpX1Q&list=PL4Yp_5ExVAU1n7rgLgGYFdy7WAppoQ870'"
   ]
  },
  {
   "cell_type": "code",
   "execution_count": 107,
   "metadata": {
    "collapsed": true
   },
   "outputs": [],
   "source": [
    "uClient = uReq(my_url)\n",
    "page_html = uClient.read()\t\n",
    "soup_out= soup(page_html, \"html.parser\")"
   ]
  },
  {
   "cell_type": "markdown",
   "metadata": {},
   "source": [
    "uReq(my_url) opens the URL that is stored in the variable my_url\n",
    "uClient.read() reads the html_page of Youtube\n",
    "soup(page_html, \"html.parser\") parsing HTML"
   ]
  },
  {
   "cell_type": "code",
   "execution_count": 57,
   "metadata": {},
   "outputs": [
    {
     "ename": "AttributeError",
     "evalue": "'str' object has no attribute 'descendants'",
     "output_type": "error",
     "traceback": [
      "\u001b[0;31m---------------------------------------------------------------------------\u001b[0m",
      "\u001b[0;31mAttributeError\u001b[0m                            Traceback (most recent call last)",
      "\u001b[0;32m<ipython-input-57-ebf737fc0723>\u001b[0m in \u001b[0;36m<module>\u001b[0;34m()\u001b[0m\n\u001b[0;32m----> 1\u001b[0;31m \u001b[0;32mfor\u001b[0m \u001b[0mh4\u001b[0m \u001b[0;32min\u001b[0m \u001b[0msoup\u001b[0m\u001b[0;34m.\u001b[0m\u001b[0mfindAll\u001b[0m\u001b[0;34m(\u001b[0m\u001b[0;34m'h4'\u001b[0m\u001b[0;34m)\u001b[0m\u001b[0;34m:\u001b[0m\u001b[0;34m\u001b[0m\u001b[0m\n\u001b[0m\u001b[1;32m      2\u001b[0m     \u001b[0mprint\u001b[0m\u001b[0;34m(\u001b[0m\u001b[0mh4\u001b[0m\u001b[0;34m.\u001b[0m\u001b[0mtext\u001b[0m\u001b[0;34m)\u001b[0m\u001b[0;34m\u001b[0m\u001b[0m\n",
      "\u001b[0;32m~/miniconda3/envs/carnd-term1/lib/python3.5/site-packages/bs4/element.py\u001b[0m in \u001b[0;36mfind_all\u001b[0;34m(self, name, attrs, recursive, text, limit, **kwargs)\u001b[0m\n\u001b[1;32m   1308\u001b[0m         same is true of the tag name.\"\"\"\n\u001b[1;32m   1309\u001b[0m \u001b[0;34m\u001b[0m\u001b[0m\n\u001b[0;32m-> 1310\u001b[0;31m         \u001b[0mgenerator\u001b[0m \u001b[0;34m=\u001b[0m \u001b[0mself\u001b[0m\u001b[0;34m.\u001b[0m\u001b[0mdescendants\u001b[0m\u001b[0;34m\u001b[0m\u001b[0m\n\u001b[0m\u001b[1;32m   1311\u001b[0m         \u001b[0;32mif\u001b[0m \u001b[0;32mnot\u001b[0m \u001b[0mrecursive\u001b[0m\u001b[0;34m:\u001b[0m\u001b[0;34m\u001b[0m\u001b[0m\n\u001b[1;32m   1312\u001b[0m             \u001b[0mgenerator\u001b[0m \u001b[0;34m=\u001b[0m \u001b[0mself\u001b[0m\u001b[0;34m.\u001b[0m\u001b[0mchildren\u001b[0m\u001b[0;34m\u001b[0m\u001b[0m\n",
      "\u001b[0;31mAttributeError\u001b[0m: 'str' object has no attribute 'descendants'"
     ]
    }
   ],
   "source": [
    "for h4 in soup.findAll('h4'):\n",
    "    print(h4.text)"
   ]
  },
  {
   "cell_type": "code",
   "execution_count": 106,
   "metadata": {
    "collapsed": true
   },
   "outputs": [],
   "source": [
    "my_url = 'https://www.youtube.com/watch?v=hUZS6yW0fQk'\n",
    "my_url = 'https://www.youtube.com/watch?v=95zSs86SfmE'"
   ]
  },
  {
   "cell_type": "code",
   "execution_count": 127,
   "metadata": {},
   "outputs": [],
   "source": [
    "def extract_meta(soup_base,prop_name,attribute_name):\n",
    "    temp = soup_out.find_all('meta',{prop_name:attribute_name})\n",
    "    for element in temp:\n",
    "        out =(element.attrs[\"content\"])    \n",
    "    return out\n",
    "        \n",
    "def extract_video_info(my_url):\n",
    "    uClient = uReq(my_url)\n",
    "    page_html = uClient.read()\t\n",
    "    soup_out= soup(page_html, \"html.parser\")    \n",
    "    out_title=extract_meta(soup_out,\"name\",\"title\")\n",
    "    out_keys=extract_meta(soup_out,\"name\",\"keywords\")\n",
    "\n",
    "    temp = soup_out.find_all('script',{'type':'application/ld+json'})[0]\n",
    "    description=extract_meta(soup_out,\"itemprop\",\"description\")\n",
    "    category=extract_meta(soup_out,\"itemprop\",\"genre\")\n",
    "    viewcount=extract_meta(soup_out,\"itemprop\",\"interactionCount\")\n",
    "    twitter_description=extract_meta(soup_out,\"name\",\"twitter:description\")\n",
    "    channelID=extract_meta(soup_out,\"itemprop\",\"channelId\")\n",
    "\n",
    "    for string in temp.strings:\n",
    "        a=json.loads(string)\n",
    "        author = a['itemListElement'][0]['item']['name']    \n",
    "        \n",
    "    return out_title, out_keys,author, \\\n",
    "        category,viewcount,description, \\\n",
    "        twitter_description,channelID    \\"
   ]
  },
  {
   "cell_type": "code",
   "execution_count": 128,
   "metadata": {},
   "outputs": [],
   "source": [
    "t,k,a,c,v,d,td,chid = extract_video_info(my_url)"
   ]
  },
  {
   "cell_type": "code",
   "execution_count": 129,
   "metadata": {},
   "outputs": [
    {
     "name": "stdout",
     "output_type": "stream",
     "text": [
      "Denver Nuggets vs San Antonio Spurs - Full Game Highlights | Jan 13, 2018 | NBA Season 2017-18 Basketball, NBA, HD 720p, Full Game Highlights, Rapid Highlights Rapid Highlights Sports 599196 Denver Nuggets vs San Antonio Spurs - Full Game Highlights | January 13, 1/13 Follow me on Twitter: https://twitter.com/RapidHighlights Like me on Facebook: ... Denver Nuggets vs San Antonio Spurs - Full Game Highlights | January 13, 1/13 Follow me on Twitter: https://twitter.com/RapidHighlights Like me on Facebook: ... UCwDqET916-M6i-NcjMflCFQ\n"
     ]
    }
   ],
   "source": [
    "print(t,k,a,c,v,d,td,chid)"
   ]
  },
  {
   "cell_type": "code",
   "execution_count": null,
   "metadata": {
    "collapsed": true
   },
   "outputs": [],
   "source": []
  }
 ],
 "metadata": {
  "kernelspec": {
   "display_name": "Python 3",
   "language": "python",
   "name": "python3"
  },
  "language_info": {
   "codemirror_mode": {
    "name": "ipython",
    "version": 3
   },
   "file_extension": ".py",
   "mimetype": "text/x-python",
   "name": "python",
   "nbconvert_exporter": "python",
   "pygments_lexer": "ipython3",
   "version": "3.5.2"
  },
  "widgets": {
   "state": {},
   "version": "1.1.2"
  }
 },
 "nbformat": 4,
 "nbformat_minor": 2
}
